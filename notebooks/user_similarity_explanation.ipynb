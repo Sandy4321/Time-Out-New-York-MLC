{
 "cells": [
  {
   "cell_type": "code",
   "execution_count": 1,
   "metadata": {
    "collapsed": true
   },
   "outputs": [],
   "source": [
    "from sklearn.metrics import jaccard_similarity_score\n",
    "import numpy as np"
   ]
  },
  {
   "cell_type": "code",
   "execution_count": 2,
   "metadata": {
    "collapsed": false
   },
   "outputs": [
    {
     "name": "stdout",
     "output_type": "stream",
     "text": [
      "0.6\n"
     ]
    }
   ],
   "source": [
    "a = np.array([0,1,1,1,0,0,1,1,0,0])\n",
    "b = np.array([1,1,0,1,0,0,1,0,0,1])\n",
    "\n",
    "print jaccard_similarity_score(a,b)"
   ]
  },
  {
   "cell_type": "markdown",
   "metadata": {},
   "source": [
    "### The Jaccard similiarity score is a relatively simple method. \n",
    "### Let's suppose the number of check-ins reflect the preference level that users have for each venue. Then we need to take check-in frequencies into account, so the score of each venue in our user vector will become:\n",
    "### #(check-ins at said venue)/#(check-ins total by said user)\n",
    "### i.e. user a checked in 8 times at 5 different venues; user b checked in 10 times at 8 different venues. Let's suppose we have 10 venues in total. Our user checkin-in vector will look something like the following"
   ]
  },
  {
   "cell_type": "code",
   "execution_count": 3,
   "metadata": {
    "collapsed": true
   },
   "outputs": [],
   "source": [
    "a = np.array([0, \n",
    "              1./8, \n",
    "              1./8, \n",
    "              3./8, \n",
    "              0, \n",
    "              0, \n",
    "              1./8, \n",
    "              2./8, \n",
    "              0, \n",
    "              0])\n",
    "b = np.array([1./10, \n",
    "              2./10, \n",
    "              1./10, \n",
    "              1./10, \n",
    "              0, \n",
    "              1./10, \n",
    "              1./10,  \n",
    "              2./10, \n",
    "              0,\n",
    "              1./10])"
   ]
  },
  {
   "cell_type": "markdown",
   "metadata": {},
   "source": [
    "### Referring to the \"Similarity of asymmetric binary attributes\" section on https://en.wikipedia.org/wiki/Jaccard_index, we'll disregard the venues that neither a nor b has checked in. Then we'll add up all the venue scores that both a and b have checked in and divide it by 2.\n",
    "\n",
    "### i.e. in this particular case, say the 10 venues are listed as venues 0~9. Since a and b both checked in at 1, 2, 3, 6, and 7, the similarity score between a and b will be the summation of all the scores at those venues over 2\n",
    "### (1/8+2/10+1/8+1/10+3/8+1/10+1/8+1/10+2/8+2/10)/2\n",
    "### Let's see what numpy functions will help us with that"
   ]
  },
  {
   "cell_type": "code",
   "execution_count": 4,
   "metadata": {
    "collapsed": false
   },
   "outputs": [
    {
     "name": "stdout",
     "output_type": "stream",
     "text": [
      "Non-zero index of a (array([1, 2, 3, 6, 7]),)\n",
      "Non-zero index of b (array([0, 1, 2, 3, 5, 6, 7, 9]),)\n",
      "Non-zero index of both [1 2 3 6 7]\n",
      "Sum for a at non-zero index of both 1.0\n",
      "Sum for b at non-zero index of both 0.7\n",
      "Similarity score between a and b 0.85\n"
     ]
    }
   ],
   "source": [
    "print 'Non-zero index of a',np.nonzero(a)\n",
    "print 'Non-zero index of b',np.nonzero(b)\n",
    "print 'Non-zero index of both',np.intersect1d(np.nonzero(a), np.nonzero(b))\n",
    "print 'Sum for a at non-zero index of both',np.sum(a[np.intersect1d(np.nonzero(a), np.nonzero(b))])\n",
    "print 'Sum for b at non-zero index of both',np.sum(b[np.intersect1d(np.nonzero(a), np.nonzero(b))])\n",
    "print 'Similarity score between a and b',(np.sum(a[np.intersect1d(np.nonzero(a), np.nonzero(b))])+\n",
    "                                          np.sum(b[np.intersect1d(np.nonzero(a), np.nonzero(b))]))/2"
   ]
  },
  {
   "cell_type": "markdown",
   "metadata": {},
   "source": [
    "### Now let's put things in a function"
   ]
  },
  {
   "cell_type": "code",
   "execution_count": 5,
   "metadata": {
    "collapsed": true
   },
   "outputs": [],
   "source": [
    "def get_sim_index_based_on_freq(user1=None, user2=None):\n",
    "    if user1.ndim!=1 or user2.ndim!=1:\n",
    "        print 'Input arrays must be 1-dimensional'\n",
    "        return\n",
    "    elif user1.shape!=user2.shape:\n",
    "        print 'Input arrays must have the same length'\n",
    "        return\n",
    "    else:\n",
    "        index_to_sum = np.intersect1d(np.nonzero(user1), np.nonzero(user2))\n",
    "    return float(np.sum(user1[index_to_sum])+np.sum(user2[index_to_sum]))/2"
   ]
  },
  {
   "cell_type": "markdown",
   "metadata": {},
   "source": [
    "### Check to see if it works"
   ]
  },
  {
   "cell_type": "code",
   "execution_count": 6,
   "metadata": {
    "collapsed": false
   },
   "outputs": [
    {
     "name": "stdout",
     "output_type": "stream",
     "text": [
      "The similarity index based on check-in frequency between a and b is 0.85\n"
     ]
    }
   ],
   "source": [
    "print 'The similarity index based on check-in frequency between a and b is',get_sim_index_based_on_freq(a, b)"
   ]
  }
 ],
 "metadata": {
  "kernelspec": {
   "display_name": "Python 2",
   "language": "python",
   "name": "python2"
  },
  "language_info": {
   "codemirror_mode": {
    "name": "ipython",
    "version": 2
   },
   "file_extension": ".py",
   "mimetype": "text/x-python",
   "name": "python",
   "nbconvert_exporter": "python",
   "pygments_lexer": "ipython2",
   "version": "2.7.11"
  }
 },
 "nbformat": 4,
 "nbformat_minor": 0
}
